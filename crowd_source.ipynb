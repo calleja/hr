{
 "cells": [
  {
   "cell_type": "markdown",
   "metadata": {},
   "source": [
    "In this study we uncover the effects and interactions of procedural changes made by the company to decrease the level of denied claims. The measurement periods in question are the first and second half of calendar year 2016. We are tasked with uncovering the nature of the implementation: whether it targeted denial types, insurance carriers, service lines or claims by dollar amount - and possibly a combination of these."
   ]
  },
  {
   "cell_type": "code",
   "execution_count": 1,
   "metadata": {},
   "outputs": [],
   "source": [
    "import pandas as pd\n",
    "import numpy as np\n",
    "import matplotlib.pyplot as plt\n",
    "import itertools\n",
    "import warnings\n",
    "import seaborn as sbs"
   ]
  },
  {
   "cell_type": "markdown",
   "metadata": {},
   "source": [
    "A preview of the raw dataset. Here, you see that \n",
    " - 'month of service' is nearly qualitative \n",
    " - 'Denied Amount' is continuous for all intents and purposes\n",
    " - 'Insurance Name' is categorical\n",
    " - 'Service Line' is Categorical\n",
    " - 'Denial Type' is Categorical"
   ]
  },
  {
   "cell_type": "code",
   "execution_count": 2,
   "metadata": {},
   "outputs": [
    {
     "data": {
      "text/html": [
       "<div>\n",
       "<style>\n",
       "    .dataframe thead tr:only-child th {\n",
       "        text-align: right;\n",
       "    }\n",
       "\n",
       "    .dataframe thead th {\n",
       "        text-align: left;\n",
       "    }\n",
       "\n",
       "    .dataframe tbody tr th {\n",
       "        vertical-align: top;\n",
       "    }\n",
       "</style>\n",
       "<table border=\"1\" class=\"dataframe\">\n",
       "  <thead>\n",
       "    <tr style=\"text-align: right;\">\n",
       "      <th></th>\n",
       "      <th>Month of Service</th>\n",
       "      <th>Denied Amount</th>\n",
       "      <th>Insurance Name</th>\n",
       "      <th>Service Line</th>\n",
       "      <th>Denial Type</th>\n",
       "    </tr>\n",
       "  </thead>\n",
       "  <tbody>\n",
       "    <tr>\n",
       "      <th>0</th>\n",
       "      <td>7</td>\n",
       "      <td>31000</td>\n",
       "      <td>Aetna</td>\n",
       "      <td>MedOnc</td>\n",
       "      <td>Authorization</td>\n",
       "    </tr>\n",
       "    <tr>\n",
       "      <th>1</th>\n",
       "      <td>9</td>\n",
       "      <td>11000</td>\n",
       "      <td>Medicaid</td>\n",
       "      <td>Radiology</td>\n",
       "      <td>Credentialing</td>\n",
       "    </tr>\n",
       "    <tr>\n",
       "      <th>2</th>\n",
       "      <td>6</td>\n",
       "      <td>5000</td>\n",
       "      <td>UHC</td>\n",
       "      <td>MedOnc</td>\n",
       "      <td>Timely Filing</td>\n",
       "    </tr>\n",
       "    <tr>\n",
       "      <th>3</th>\n",
       "      <td>8</td>\n",
       "      <td>13000</td>\n",
       "      <td>Medicaid</td>\n",
       "      <td>E&amp;M</td>\n",
       "      <td>Additional Information</td>\n",
       "    </tr>\n",
       "    <tr>\n",
       "      <th>4</th>\n",
       "      <td>5</td>\n",
       "      <td>39000</td>\n",
       "      <td>HIP</td>\n",
       "      <td>Labs</td>\n",
       "      <td>Coding</td>\n",
       "    </tr>\n",
       "  </tbody>\n",
       "</table>\n",
       "</div>"
      ],
      "text/plain": [
       "   Month of Service  Denied Amount Insurance Name Service Line  \\\n",
       "0                 7          31000          Aetna       MedOnc   \n",
       "1                 9          11000       Medicaid    Radiology   \n",
       "2                 6           5000            UHC       MedOnc   \n",
       "3                 8          13000       Medicaid          E&M   \n",
       "4                 5          39000            HIP         Labs   \n",
       "\n",
       "              Denial Type  \n",
       "0           Authorization  \n",
       "1           Credentialing  \n",
       "2           Timely Filing  \n",
       "3  Additional Information  \n",
       "4                  Coding  "
      ]
     },
     "execution_count": 2,
     "metadata": {},
     "output_type": "execute_result"
    }
   ],
   "source": [
    "df=pd.read_excel('C:/Users/callejal/Documents/hr-master/Flatiron_Analyst_Case_Study_(2).xlsx')\n",
    "#df=pd.read_excel('/home/lechuza/Documents/hr/Flatiron_Analyst_Case_Study_(2).xlsx')\n",
    "df.head()"
   ]
  },
  {
   "cell_type": "markdown",
   "metadata": {},
   "source": [
    "Note: the data shows one half of the story. Not provided is information on these factors across sucessful and denied claims. In effect, I am provided with a carve-out of the data. One reprecussion is lack of insight into relative proportion of claims to denials filed to a particular carrier or for a particular service line. Thus we can only make recommendations from one side of the dataset."
   ]
  },
  {
   "cell_type": "markdown",
   "metadata": {},
   "source": [
    "### High level statistics\n",
    " - Frequency of denials for the year by service line and denial type - frequency table and perhaps a heat map\n",
    " - Frequency of denials for the year broken out by service line and period - graphics and numeric data\n",
    " - Same as above but in dollars\n",
    " - provide a ranking for each category in both studies: entire year and by half\n",
    " \n",
    "### Provide some insight into the business. \n",
    "Claims are compiled and submitted in a hybrid manual/automated process using our firm's proprietary software. Once metadata on the procedure/service line is entered, our software accesses the database to pull information on the patient's insurance provider. Internally, meta data and individualized workflows are executed according to the provider.\n",
    "\n",
    "The client has not looked at their 2016 denials data; however a change in billing processing was enacted at the midpoint of the year and had a dramatic effect on billing: Total dollars denied decreased significantly, while number of denials stayed by-and-large stable. Potentially, management may have been operating under a trade-off rubric where they opted to improve one portion of their billing system at the expense of another. We will look at specifically what factors among service line, denial type and insurance carrier and subfactors were leveraged, what was impacted and make recommendations following the firm's preference towards recouping dollars over minimizing denials."
   ]
  },
  {
   "cell_type": "markdown",
   "metadata": {},
   "source": [
    "Total number of denials for 2016, first half 2016 and 2016: "
   ]
  },
  {
   "cell_type": "code",
   "execution_count": 4,
   "metadata": {},
   "outputs": [],
   "source": [
    "#splitting dataset into first and second half of year\n",
    "first_half=df.loc[df['Month of Service'] <7,:]\n",
    "second_half=df.loc[df['Month of Service'] >6,:]\n",
    "\n",
    "half_sums=np.array([sum(first_half['Denied Amount']),sum(second_half['Denied Amount'])])\n",
    "half_counts=np.array([len(first_half['Denied Amount']),len(second_half['Denied Amount'])])"
   ]
  },
  {
   "cell_type": "markdown",
   "metadata": {},
   "source": [
    "Total dollar denials for 2016, first half 2016 and 2016: $75,907,000; split by $40,906,000 in first half and $35,001,000 - a decrease of 14.4%. However, there was only a marginal decrease of 1.3% in the number of denied claims."
   ]
  },
  {
   "cell_type": "code",
   "execution_count": 7,
   "metadata": {},
   "outputs": [
    {
     "data": {
      "image/png": "[encoded data removed]",
      "text/plain": [
       "<matplotlib.figure.Figure at 0xb233a58>"
      ]
     },
     "metadata": {},
     "output_type": "display_data"
    }
   ],
   "source": [
    "plt.subplot(121)\n",
    "plt.bar([1,2],half_sums)\n",
    "#plt.xticks(np.arange(1,len(dt_d1)+1),np.array(dt_d1.index),rotation=90.0)\n",
    "plt.xticks([1,2],np.array(['1H','2H']))\n",
    "plt.title('Total denial dollars by half')\n",
    "plt.ylabel('Dollar value of denials')\n",
    "\n",
    "plt.subplot(122)\n",
    "plt.bar([1,2],half_counts)\n",
    "plt.xticks([1,2],np.array(['1H','2H']))\n",
    "plt.ylabel('Frequency of denials')\n",
    "plt.title('Frequency of denials by half')\n",
    "plt.subplots_adjust(wspace=.5)\n",
    "plt.show()\n",
    "plt.close()"
   ]
  },
  {
   "cell_type": "markdown",
   "metadata": {},
   "source": [
    "The implementation served to reduce total dollars denied, but the decline in frequency of denials did not see the same level of change. However, the impact was not universal across the three factors. The dollar impact reverberated heterogenously across factors in their billing practices. We peer into those next."
   ]
  },
  {
   "cell_type": "code",
   "execution_count": 5,
   "metadata": {},
   "outputs": [
    {
     "data": {
      "image/png": "[encoded data removed]",
      "text/plain": [
       "<matplotlib.figure.Figure at 0x9cb1898>"
      ]
     },
     "metadata": {},
     "output_type": "display_data"
    }
   ],
   "source": [
    "#bins=min(df['Denied Amount'])\n",
    "plt.close()\n",
    "ax1=plt.subplot(121)\n",
    "plt.hist(df['Denied Amount'],bins=8,density=False,color='green',edgecolor='black')\n",
    "plt.title('Distribution of claim \\n denial amounts 8 bins')\n",
    "plt.xlabel('Dollar amount of claims')\n",
    "plt.ylabel('Frequency of Claims in bin')\n",
    "\n",
    "plt.subplot(122)\n",
    "plt.hist(df['Denied Amount'],bins=20,density=False,color='green',edgecolor='black')\n",
    "plt.title('Distribution of claim \\n denial amounts 20 bins')\n",
    "plt.xlabel('Dollar amount of claims')\n",
    "plt.ylabel('Frequency of Claims in bin')\n",
    "plt.subplots_adjust(wspace=.5)\n",
    "\n",
    "plt.show()\n",
    "plt.close()"
   ]
  },
  {
   "cell_type": "markdown",
   "metadata": {},
   "source": [
    "The above graphs displays the semi-uniform distribution of claim sizes across periods. Below we plot hisotgrams for each period separately."
   ]
  },
  {
   "cell_type": "code",
   "execution_count": 6,
   "metadata": {},
   "outputs": [
    {
     "data": {
      "image/png": "[encoded data removed]",
      "text/plain": [
       "<matplotlib.figure.Figure at 0xb162898>"
      ]
     },
     "metadata": {},
     "output_type": "display_data"
    }
   ],
   "source": [
    "plt.close()\n",
    "ax2=plt.subplot(122)\n",
    "plt.hist(second_half['Denied Amount'],bins=8,density=False,color='green',edgecolor='black')\n",
    "plt.title('Distribution of claim denial \\n amounts for the second half')\n",
    "plt.xlabel('Dollar amount of claims')\n",
    "plt.ylabel('Frequency of Claims in bin')\n",
    "\n",
    "plt.subplot(121,sharey=ax2)\n",
    "plt.hist(first_half['Denied Amount'],bins=8,density=False,color='green',edgecolor='black')\n",
    "plt.title('Distribution of claim denial \\n amounts for the first half')\n",
    "plt.xlabel('Dollar amount of claims')\n",
    "plt.ylabel('Frequency of Claims in bin')\n",
    "plt.subplots_adjust(wspace=.5)\n",
    "plt.show()"
   ]
  },
  {
   "cell_type": "markdown",
   "metadata": {},
   "source": [
    "There was a significant decrease in claims over $35K, while those under that amount generally saw increases. "
   ]
  },
  {
   "cell_type": "code",
   "execution_count": null,
   "metadata": {},
   "outputs": [],
   "source": [
    "#create dataframe of frequencies of the variables I want to plot\n",
    "#will need to sort the series by index - alphabetical order\n",
    "dt_1=first_half['Denial Type'].value_counts()\n",
    "dt_2=second_half['Denial Type'].value_counts()\n",
    "\n",
    "dt_d1=first_half.groupby('Denial Type').apply(lambda x: sum(x['Denied Amount']))\n",
    "dt_d2=second_half.groupby('Denial Type').apply(lambda x: sum(x['Denied Amount']))\n",
    "#sort both series and store as such\n",
    "\n",
    "#sort these series\n",
    "dt_1.sort_index(inplace=True)\n",
    "dt_2.sort_index(inplace=True)"
   ]
  },
  {
   "cell_type": "markdown",
   "metadata": {},
   "source": [
    "Plot denial types for first and second half of year"
   ]
  },
  {
   "cell_type": "code",
   "execution_count": null,
   "metadata": {},
   "outputs": [],
   "source": [
    "plt.close()\n",
    "ax1=plt.subplot(221)\n",
    "plt.bar(np.arange(1,len(dt_1)+1),dt_1.values)\n",
    "ax1.set_title('Frequency of denied claims \\nby denial type First Half of year')\n",
    "plt.xticks(np.arange(1,len(dt_1)+1),np.array(dt_1.index),rotation=90.0)\n",
    "#plt.figure(num=1,figsize=(5,1))\n",
    "\n",
    "ax2=plt.subplot(222,sharey=ax1,sharex=ax1)\n",
    "plt.bar(np.arange(1,len(dt_2)+1),dt_2.values,align='center')\n",
    "ax2.set_title('Second Half of year')\n",
    "plt.xticks(np.arange(1,len(dt_2)+1),np.array(dt_2.index),rotation=90.0)\n",
    "#plt.figure(num=2,figsize=(5,1))\n",
    "\n",
    "ax3=plt.subplot(223)\n",
    "plt.bar(np.arange(1,len(dt_d1)+1),dt_d1.values,align='center')\n",
    "ax2.set_title('Second Half of year')\n",
    "plt.xticks(np.arange(1,len(dt_d1)+1),np.array(dt_d1.index),rotation=90.0)\n",
    "#plt.figure(num=3,figsize=(5,5))\n",
    "\n",
    "ax4=plt.subplot(224,sharey=ax3,sharex=ax3)\n",
    "plt.bar(np.arange(1,len(dt_d2)+1),dt_d2.values,align='center')\n",
    "ax2.set_title('Second Half of year')\n",
    "plt.xticks(np.arange(1,len(dt_d2)+1),np.array(dt_d2.index),rotation=90.0)\n",
    "#plt.figure(num=4,figsize=(5,1))\n",
    "\n",
    "#plt.tight_layout() <- can't use, because it reduces the image sizes to the point where diminishing legibility\n",
    "plt.subplots_adjust(wspace=.5)\n",
    "plt.show()\n",
    "plt.close()"
   ]
  },
  {
   "cell_type": "markdown",
   "metadata": {},
   "source": [
    "We note that denials increased for all types save for \"Authorization\", \"Coding\" and \"Credentialing\". Later, we do a deeper dive to check the distribution across component service lines for each of these claims using a rate of change metric.\n",
    "\n",
    "Nominal dollar amount of denials by carrier."
   ]
  },
  {
   "cell_type": "code",
   "execution_count": null,
   "metadata": {},
   "outputs": [],
   "source": [
    "insurance_sums_first=first_half.groupby('Insurance Name').apply(lambda x: sum(x['Denied Amount']))\n",
    "insurance_sums_second=second_half.groupby('Insurance Name').apply(lambda x: sum(x['Denied Amount']))"
   ]
  },
  {
   "cell_type": "code",
   "execution_count": null,
   "metadata": {},
   "outputs": [],
   "source": [
    "#it would be nice to show gridlines\n",
    "plt.close()\n",
    "ax1=plt.subplot(121)\n",
    "plt.bar(np.arange(1,len(insurance_sums_first)+1),insurance_sums_first.values)\n",
    "plt.xticks(np.arange(1,len(insurance_sums_first)+1),np.array(insurance_sums_first.index),rotation=70.0)\n",
    "plt.ylabel('Dollar Sum of Denials')\n",
    "plt.title('Cumulate Sum of Denials per \\n Insurance Provider - First Half')\n",
    "\n",
    "\n",
    "ax2=plt.subplot(122, sharey=ax1)\n",
    "plt.bar(np.arange(1,len(insurance_sums_second)+1),insurance_sums_second.values)\n",
    "plt.xticks(np.arange(1,len(insurance_sums_second)+1),np.array(insurance_sums_second.index),rotation=90.0)\n",
    "plt.title('Cumulate Sum of Denials per \\n Insurance Provider - Second Half')\n",
    "plt.subplots_adjust(wspace=.6)\n",
    "#plt.tight_layout()\n",
    "plt.show()"
   ]
  },
  {
   "cell_type": "markdown",
   "metadata": {},
   "source": [
    "What is the concentration of these carriers across service line and denial type"
   ]
  },
  {
   "cell_type": "code",
   "execution_count": null,
   "metadata": {},
   "outputs": [],
   "source": [
    "#run proportional study... \n",
    "#in_dt_1=first_half.groupby(['Insurance Name','Denial Type']).apply(len)\n",
    "#in_dt_2=second_half.groupby(['Insurance Name','Denial Type']).apply(len)\n",
    "\n",
    "pd.crosstab(first_half['Insurance Name'],first_half['Denial Type']).apply(lambda x: x/sum(x),axis=1)"
   ]
  },
  {
   "cell_type": "code",
   "execution_count": null,
   "metadata": {},
   "outputs": [],
   "source": [
    "pd.crosstab(second_half['Insurance Name'],second_half['Denial Type']).apply(lambda x: x/sum(x),axis=1)\n",
    "#proportions table with calcs along the column axis"
   ]
  },
  {
   "cell_type": "code",
   "execution_count": null,
   "metadata": {},
   "outputs": [],
   "source": [
    "pd.crosstab(first_half['Insurance Name'],first_half['Service Line']).apply(lambda x: x/sum(x),axis=1)"
   ]
  },
  {
   "cell_type": "code",
   "execution_count": null,
   "metadata": {},
   "outputs": [],
   "source": [
    "pd.crosstab(second_half['Insurance Name'],second_half['Service Line']).apply(lambda x: x/sum(x),axis=1)"
   ]
  },
  {
   "cell_type": "markdown",
   "metadata": {},
   "source": [
    "The difference as a proportion of service line to insurance carrier are tame. The interaction between service line and insurance is subdued, but will be investigated at the last layer of our analysis."
   ]
  },
  {
   "cell_type": "markdown",
   "metadata": {},
   "source": [
    "We already start to see some notable differences between the two periods in the array of visuals above:\n",
    "1. Cumulative denials fell dramatically for all insurance carriers, save for BCBS, Medicaid and Medicare\n",
    "2. Fewer denials of less than $35K\n",
    "\n",
    "We can drill down to see whether there is a level among the Service Line and Denial Type factors that is prevalent in the subset of carriers. Perhaps a 'denial type' or 'service line' is more significantly prevalent in one of the groups over the others. If not, we can try the study from a different perspective: Beginning the analysis from the denial types, then proceeding through servie line, and if need be, insurance carriers.  "
   ]
  },
  {
   "cell_type": "code",
   "execution_count": null,
   "metadata": {},
   "outputs": [],
   "source": [
    "service_sums_first=first_half.groupby('Service Line').apply(lambda x: sum(x['Denied Amount']))\n",
    "service_sums_second=second_half.groupby('Service Line').apply(lambda x: sum(x['Denied Amount']))"
   ]
  },
  {
   "cell_type": "markdown",
   "metadata": {},
   "source": [
    "We concentrate on Denial Types for now. We want to gauge the change in dollar denial amounts when plotting denial types along with service line. Below we plot a heat map with the quantity being the ratio of total dollars denied by combination of service line and denial type. Positive ratios mean that the total denied dollars increased in the second half and decimals signal a decline."
   ]
  },
  {
   "cell_type": "code",
   "execution_count": null,
   "metadata": {},
   "outputs": [],
   "source": [
    "g1=first_half.groupby(['Denial Type','Service Line']).apply(lambda x: sum(x['Denied Amount']))\n",
    "g2=second_half.groupby(['Denial Type','Service Line']).apply(lambda x: sum(x['Denied Amount']))\n",
    "#run the function on frequency\n",
    "g1_l=first_half.groupby(['Denial Type','Service Line']).apply(len)\n",
    "g2_l=second_half.groupby(['Denial Type','Service Line']).apply(len)"
   ]
  },
  {
   "cell_type": "code",
   "execution_count": null,
   "metadata": {},
   "outputs": [],
   "source": [
    "#unpack the multi index, merge, then apply a function to calculate the h/h difference change and rate of change\n",
    "def innerFunction(rowwise):\n",
    "    x=rowwise.tolist()\n",
    "    #dic={'prop':x[1]/x[0],'diff':x[1]-x[0]}\n",
    "    #dic=x[1]/x[0]\n",
    "    dic=(x[1]/x[0],x[1]-x[0])\n",
    "    return(dic)\n",
    "#merge on multi index\n",
    "def merge_calc(df1,df2):\n",
    "    #df is a dataframe\n",
    "    df=pd.concat([df1,df2],axis=1)\n",
    "    final=df.apply(innerFunction,axis=1)\n",
    "    return(final)\n",
    "\n",
    "test=merge_calc(g1,g2)\n",
    "test_l=merge_calc(g1_l,g2_l)\n",
    "\n",
    "#now we convert to an appropriate dataframe and plot a heatmap\n",
    "test.columns=['proportion','difference']\n",
    "test.reset_index(inplace=True)\n",
    "test1=test.pivot('Service Line','Denial Type','proportion')\n",
    "\n",
    "test_l.columns=['proportion','difference']\n",
    "test_l.reset_index(inplace=True)\n",
    "test_l1=test_l.pivot('Service Line','Denial Type','proportion')"
   ]
  },
  {
   "cell_type": "code",
   "execution_count": null,
   "metadata": {},
   "outputs": [],
   "source": [
    "plt.close()\n",
    "ax=sbs.heatmap(test1,annot=True)\n",
    "ax.set_title('Ratio of Cumulative Sums from half to half')\n",
    "#flights = sbs.load_dataset(\"flights\")\n",
    "#flights = flights.pivot(\"month\", \"year\", \"passengers\")\n",
    "\n",
    "#print(flights.head())\n",
    "plt.show()\n",
    "plt.close()"
   ]
  },
  {
   "cell_type": "markdown",
   "metadata": {},
   "source": [
    "From the heatmap, we see that possible implementations of new \"Coding\", \"Authorization\" and \"Credentialing\" practices was especially effective at reducing claims across service lines when measured on ratio of cumulative dollar sum. This impact is notably effective in the service lines of 'RadOnc' and 'Radiology'.\n",
    "\n",
    "Areas of concern: The procedural enhancements were least effective at reducing claims for \"E&M\", \"Labs\" and \"MedOnc\"; moreover, these three service lines experienced the highest growth in claims\n",
    "\n",
    "Plot another HeatMap but with total absolute dollars difference half-over-half."
   ]
  },
  {
   "cell_type": "code",
   "execution_count": null,
   "metadata": {},
   "outputs": [],
   "source": [
    "test2=test.pivot('Service Line','Denial Type','difference')\n",
    "plt.close()\n",
    "ax=sbs.heatmap(test2,annot=False)\n",
    "ax.set_title('Nominal Difference in Cumulative Sums from half to half')\n",
    "plt.show()\n",
    "plt.close()"
   ]
  },
  {
   "cell_type": "markdown",
   "metadata": {},
   "source": [
    "From the above, we can nearly rest assured that rates of change associate closely with changes as measured by nominal differences in cumulative denial dollars."
   ]
  },
  {
   "cell_type": "code",
   "execution_count": null,
   "metadata": {},
   "outputs": [],
   "source": [
    "plt.close()\n",
    "ax=sbs.heatmap(test_l1,annot=True)\n",
    "ax.set_title('Ratios of frequency of denials from half to half')\n",
    "plt.show()\n",
    "plt.close()"
   ]
  },
  {
   "cell_type": "markdown",
   "metadata": {},
   "source": [
    "We glean from the above that the implementation impacted RadOnc and Radiology when interacted with Authorization, Coding and Credentialing. Conversely, an implementation greatly augmented denials for Labs and MedOnc. MedOnc is especially concerning because of the large dollar impact sustained by the increase in denials."
   ]
  },
  {
   "cell_type": "markdown",
   "metadata": {},
   "source": [
    "Below we re-do the study but starting starting with service lines."
   ]
  },
  {
   "cell_type": "code",
   "execution_count": null,
   "metadata": {},
   "outputs": [],
   "source": [
    "plt.close()\n",
    "\n",
    "ax1=plt.subplot(121)\n",
    "plt.bar(np.arange(1,len(service_sums_first)+1),service_sums_first.values)\n",
    "plt.xticks(np.arange(1,len(service_sums_first)+1),np.array(service_sums_first.index),rotation=45.0)\n",
    "plt.title('Cumulate Sum of Denials per \\n Service Line - First Half')\n",
    "plt.yticks(np.arange(0,max(service_sums_first.values)+8000,450000))\n",
    "ax1.grid(color='r', linestyle='-', linewidth=.5, axis='y')\n",
    "\n",
    "\n",
    "ax2=plt.subplot(122,sharey=ax1)\n",
    "plt.bar(np.arange(1,len(service_sums_second)+1),service_sums_second.values)\n",
    "plt.xticks(np.arange(1,len(service_sums_second)+1),np.array(service_sums_second.index),rotation=45.0)\n",
    "plt.title('Cumulate Sum of Denials per \\n Service Line - Second Half')\n",
    "plt.yticks(np.arange(0,max(service_sums_second.values)+8000,450000))\n",
    "ax2.grid(color='r', linestyle='-', linewidth=.5, axis='y')\n",
    "plt.subplots_adjust(wspace=.5)\n",
    "\n",
    "plt.show()"
   ]
  },
  {
   "cell_type": "markdown",
   "metadata": {},
   "source": [
    "The h/h rate of change for each service line indicate that the last two had the most dramatic decline and absolute change, while 'MedOnc' had the largest increase. This confirms the drop we saw in these lines when taking the perspective of a 'denial type' implementation. It is possible that the firm focused on Service Lines and not denial types. We have to uncover the reason why denials decreased more for some service lines than others for \"Coding\", \"Credentialing\" and \"Authorization\"."
   ]
  },
  {
   "cell_type": "markdown",
   "metadata": {},
   "source": [
    "Make a proportions table for service line and denial type... if the proportions stayed flat h/h, then we know that the firm targeted the service line; if not, then we know they targeted particular denial types."
   ]
  },
  {
   "cell_type": "code",
   "execution_count": null,
   "metadata": {},
   "outputs": [],
   "source": [
    "cross_1=pd.crosstab(first_half['Service Line'],first_half['Denial Type']).apply(lambda x: x/sum(x),axis=1)\n",
    "cross_2=pd.crosstab(second_half['Service Line'],second_half['Denial Type']).apply(lambda x: x/sum(x),axis=1)\n",
    "\n",
    "plt.close()\n",
    "fig=plt.figure(figsize=(10, 10), dpi= 62, facecolor='w', edgecolor='k')\n",
    "plt.subplot(121)\n",
    "ax=sbs.heatmap(cross_1,annot=True)\n",
    "#ax.set_title('Ratios of frequency of denials from half to half')\n",
    "plt.subplot(122)\n",
    "ax=sbs.heatmap(cross_2,annot=True)\n",
    "plt.show()\n",
    "plt.close()"
   ]
  },
  {
   "cell_type": "markdown",
   "metadata": {},
   "source": [
    "### Capture the distribution of rate of change of frequency of denials when:\n",
    "1. holding denial type constant and iterating through the combinations of service line and insurance\n",
    "2. holding denial type and service line combination constant and iterating through insurance \n",
    "\n",
    "Number 1 yields 8x45\n",
    "Number 2 yields 40x9\n",
    "service line: 5; denial type: 8; insurance: 9"
   ]
  },
  {
   "cell_type": "code",
   "execution_count": null,
   "metadata": {},
   "outputs": [],
   "source": [
    "#create one dictionary per independent variable (in some cases can be a combination of two variables, which will be encapsulatd in an tuple)\n",
    "#dependentArray is a list... this function needs to be customized because of shortcomings in dataframe indexing\n",
    "def getMeasure(df,independent_array,dependent_array):\n",
    "    #hard coding the index-column association\n",
    "    #insert/place result set in either a dictionary, pandas dataframe\n",
    "    result_set_dict={}\n",
    "    #a dictionary of dictionary\n",
    "    result_set_dict.setdefault(independent_array,{})\n",
    "    \n",
    "    #store results in an array - converting the series to an array\n",
    "    results_array=np.array(df.loc[(df['Denial Type'] == independent_array[0]) & (df['Service Line'] == dependent_array[0]) & \n",
    "        (df['Insurance Name'] == dependent_array[1]),'Denied Amount'])\n",
    "    \n",
    "    try:\n",
    "        result_set_dict[independent_array]['mean']=np.mean(results_array)\n",
    "        result_set_dict[independent_array]['freq']=results_array.size\n",
    "        result_set_dict[independent_array]['cum_sum']=np.sum(results_array)\n",
    "        result_set_dict[independent_array]['combo']=dependent_array\n",
    "    except RunTimeWarning:\n",
    "        result_set_dict[independent_array]['mean']=None\n",
    "        \n",
    "    return(result_set_dict)"
   ]
  },
  {
   "cell_type": "code",
   "execution_count": null,
   "metadata": {},
   "outputs": [],
   "source": [
    "#configure the combinations of the dependent variable\n",
    "ins=df['Insurance Name'].unique()\n",
    "service=df['Service Line'].unique()\n",
    "denial=df['Denial Type'].unique()\n",
    "lista=[service,ins]\n",
    "g=itertools.product(*lista)\n",
    "combo_list_one=list(g)\n",
    "\n",
    "print(type(denial))"
   ]
  },
  {
   "cell_type": "code",
   "execution_count": null,
   "metadata": {},
   "outputs": [],
   "source": [
    "result_set1=[getMeasure(first_half,(g,),i) for g in denial for i in combo_list_one]\n",
    "result_set2=[getMeasure(second_half,(g,),i) for g in denial for i in combo_list_one]"
   ]
  },
  {
   "cell_type": "markdown",
   "metadata": {},
   "source": [
    "re-do the above function and have it conform to the one on flatiron.ipynb, then unwind the dataframe and apply analytics; do it again for the combo independent."
   ]
  },
  {
   "cell_type": "code",
   "execution_count": null,
   "metadata": {},
   "outputs": [],
   "source": [
    "def nested_dic(dic_list):\n",
    "    #convert a nested dictionary into a dataframe\n",
    "    tuple_list=[]\n",
    "    values_list=[]\n",
    "    for i in dic_list:\n",
    "        for k,v in i.items():\n",
    "            tuple_list.append(k)\n",
    "            values_list.append(v)\n",
    "    return((tuple_list,values_list))                       "
   ]
  },
  {
   "cell_type": "code",
   "execution_count": null,
   "metadata": {},
   "outputs": [],
   "source": [
    "key_list,value_list=nested_dic(result_set1)\n",
    "#from second_half dataframe\n",
    "key_list2,value_list2=nested_dic(result_set2)"
   ]
  },
  {
   "cell_type": "code",
   "execution_count": null,
   "metadata": {},
   "outputs": [],
   "source": [
    "#first_half dataframe\n",
    "df1=pd.DataFrame.from_records(value_list,index=key_list)\n",
    "#second_half dataframe\n",
    "df2=pd.DataFrame.from_records(value_list2,index=key_list2)\n",
    "#both dataframes have similar structure including indexes and combo field, which allows for merging/matching"
   ]
  },
  {
   "cell_type": "code",
   "execution_count": null,
   "metadata": {},
   "outputs": [],
   "source": [
    "#convert indexes of both dataframes to columns, then merge\n",
    "df1.reset_index(inplace=True)\n",
    "df2.reset_index(inplace=True)"
   ]
  },
  {
   "cell_type": "code",
   "execution_count": null,
   "metadata": {},
   "outputs": [],
   "source": [
    "#this function is designed to be 'applied' to one of the dataframes... apply this to the first_half df\n",
    "def lookUpDifference(x,df):\n",
    "    dicty={}\n",
    "#    dicty.setdefault(x.name,{})\n",
    "    #matched_row=df.loc[[x.name]].to_dict(orient='list') - legacy\n",
    "    #returns a dataframe\n",
    "    matched_row=df.loc[(df['combo']==x['combo']) & (df['index']==x['index']),:]\n",
    "    dicty[x['index'][0]]={'mean_diff':matched_row['mean']-x['mean'],\n",
    "    'cum_sum_diff':matched_row['cum_sum']-x['cum_sum'],\n",
    "    'freq_dif':matched_row['freq']-x['freq'],\n",
    "    'mean_prop':matched_row['mean']/x['mean'],\n",
    "    'cum_sum_prop':matched_row['cum_sum']/x['cum_sum'],\n",
    "    'freq_prop':matched_row['freq']/x['freq']}\n",
    "\n",
    "    return(dicty)"
   ]
  },
  {
   "cell_type": "code",
   "execution_count": null,
   "metadata": {},
   "outputs": [],
   "source": [
    "#apply to a DataFrame, which always returns a Series... in this case, a series of dictionaries\n",
    "g=df1.apply(lookUpDifference,args=(df2,),axis=1)"
   ]
  },
  {
   "cell_type": "code",
   "execution_count": null,
   "metadata": {},
   "outputs": [],
   "source": [
    "g_ma=g.as_matrix()"
   ]
  },
  {
   "cell_type": "code",
   "execution_count": null,
   "metadata": {},
   "outputs": [],
   "source": [
    "def nested_dic(dic_list):\n",
    "    #convert a nested dictionary into a dataframe\n",
    "    tuple_list=[]\n",
    "    values_list=[]\n",
    "    for i in dic_list:\n",
    "        for k,v in i.items():\n",
    "            tuple_list.append(k)\n",
    "            values_list.append(v)\n",
    "    return((tuple_list,values_list))         "
   ]
  },
  {
   "cell_type": "code",
   "execution_count": null,
   "metadata": {},
   "outputs": [],
   "source": [
    "key_last,value_last=nested_dic(g_ma)\n",
    "df_la=pd.DataFrame.from_records(value_last,index=key_last)"
   ]
  },
  {
   "cell_type": "code",
   "execution_count": null,
   "metadata": {},
   "outputs": [],
   "source": [
    "tutu=df_la.applymap(lambda x: x.values[0])"
   ]
  },
  {
   "cell_type": "code",
   "execution_count": null,
   "metadata": {},
   "outputs": [],
   "source": [
    "tutu.reset_index(inplace=True)"
   ]
  },
  {
   "cell_type": "code",
   "execution_count": null,
   "metadata": {},
   "outputs": [],
   "source": [
    "#tutu.replace([np.inf, -np.inf], np.nan,inplace=True)\n",
    "sum(tutu.cum_sum_prop.isnull().values) #10 values are infinite... not bad\n",
    "tutu.dropna(inplace=True,how='any')"
   ]
  },
  {
   "cell_type": "markdown",
   "metadata": {},
   "source": [
    "Iterate through each permutation of index value and run stats on each field... can plot via a violin plot."
   ]
  },
  {
   "cell_type": "code",
   "execution_count": null,
   "metadata": {},
   "outputs": [],
   "source": [
    "#there are negative ratios in cum_sum_prop and freq_prop... that's illogical... investigate\n",
    "tutu.iloc[:,1:].apply(min,axis=0)"
   ]
  },
  {
   "cell_type": "code",
   "execution_count": null,
   "metadata": {},
   "outputs": [],
   "source": [
    "plt.close()\n",
    "sbs.violinplot(x='index',y='cum_sum_prop',data=tutu,bw=.1)\n",
    "plt.xticks(rotation=45)\n",
    "plt.grid(axis='y',linestyle='-',color='r')\n",
    "plt.ylim([-2,10])\n",
    "plt.show()"
   ]
  },
  {
   "cell_type": "code",
   "execution_count": null,
   "metadata": {},
   "outputs": [],
   "source": [
    "plt.close()\n",
    "sbs.violinplot(x='index',y='freq_prop',data=tutu,bw=.1)\n",
    "plt.xticks(rotation=45)\n",
    "plt.grid(color='r', linestyle='-', linewidth=.5, axis='y')\n",
    "plt.ylim([-1,8])\n",
    "plt.show()"
   ]
  },
  {
   "cell_type": "markdown",
   "metadata": {},
   "source": [
    "The above graph displays the distribution of frequency ratio between the periods. The smaller the violin, the less the volatility in observed period-over-period denials across insurance carrier and service line in each particular denial type."
   ]
  },
  {
   "cell_type": "markdown",
   "metadata": {},
   "source": [
    "Last study looks at the interaction across the denial type and service line and iterating through insurance to gauge trends in denials for each carrier - in effect treating carrier as the dependent variable."
   ]
  },
  {
   "cell_type": "code",
   "execution_count": null,
   "metadata": {},
   "outputs": [],
   "source": [
    "lista=[denial,service]\n",
    "g=itertools.product(*lista)\n",
    "combo_list_two=list(g)"
   ]
  },
  {
   "cell_type": "code",
   "execution_count": null,
   "metadata": {},
   "outputs": [],
   "source": [
    "def getMeasure2(df,independent_array,dependent_array):\n",
    "    #re-do of the first version: in this case, there are two indepdent variables and one dependent, will change the indexing below\n",
    "    result_set_dict={}\n",
    "    #a dictionary of dictionary\n",
    "    result_set_dict.setdefault(independent_array,{})\n",
    "    \n",
    "    #store results in an array - converting the series to an array\n",
    "    results_array=np.array(df.loc[(df['Denial Type'] == independent_array[0]) \n",
    "                                  & (df['Service Line'] == independent_array[1]) & \n",
    "        (df['Insurance Name'] == dependent_array),'Denied Amount'])\n",
    "    \n",
    "    try:\n",
    "        result_set_dict[independent_array]['mean']=np.mean(results_array)\n",
    "        result_set_dict[independent_array]['freq']=results_array.size\n",
    "        result_set_dict[independent_array]['cum_sum']=np.sum(results_array)\n",
    "        result_set_dict[independent_array]['combo']=dependent_array\n",
    "    except RunTimeWarning:\n",
    "        result_set_dict[independent_array]['mean']=None\n",
    "        \n",
    "    return(result_set_dict)"
   ]
  },
  {
   "cell_type": "code",
   "execution_count": null,
   "metadata": {},
   "outputs": [],
   "source": [
    "result_set12=[getMeasure2(first_half,i,g) for g in ins for i in combo_list_two]\n",
    "result_set22=[getMeasure2(second_half,i,g) for g in ins for i in combo_list_two]"
   ]
  },
  {
   "cell_type": "code",
   "execution_count": null,
   "metadata": {},
   "outputs": [],
   "source": [
    "key_list12,value_list12=nested_dic(result_set12)\n",
    "#from second_half dataframe\n",
    "key_list22,value_list22=nested_dic(result_set22)"
   ]
  },
  {
   "cell_type": "code",
   "execution_count": null,
   "metadata": {},
   "outputs": [],
   "source": [
    "#first_half dataframe\n",
    "df12=pd.DataFrame.from_records(value_list12,index=key_list12)\n",
    "#second_half dataframe\n",
    "df22=pd.DataFrame.from_records(value_list22,index=key_list22)\n",
    "#both dataframes have similar structure including indexes and combo field, which allows for merging/matching\n",
    "df12.reset_index(inplace=True)\n",
    "df22.reset_index(inplace=True)"
   ]
  },
  {
   "cell_type": "code",
   "execution_count": null,
   "metadata": {},
   "outputs": [],
   "source": [
    "def lookUpDifference2(x,df):\n",
    "    dicty={}\n",
    "#    dicty.setdefault(x.name,{})\n",
    "    #matched_row=df.loc[[x.name]].to_dict(orient='list') - legacy\n",
    "    #returns a dataframe\n",
    "    matched_row=df.loc[(df['combo']==x['combo']) & (df['index']==x['index']),:]\n",
    "    dicty[x['index']]={'mean_diff':matched_row['mean']-x['mean'],\n",
    "    'cum_sum_diff':matched_row['cum_sum']-x['cum_sum'],\n",
    "    'freq_dif':matched_row['freq']-x['freq'],\n",
    "    'mean_prop':matched_row['mean']/x['mean'],\n",
    "    'cum_sum_prop':matched_row['cum_sum']/x['cum_sum'],\n",
    "    'freq_prop':matched_row['freq']/x['freq']}\n",
    "\n",
    "    return(dicty)"
   ]
  },
  {
   "cell_type": "code",
   "execution_count": null,
   "metadata": {},
   "outputs": [],
   "source": [
    "#apply to a DataFrame, which always returns a Series... in this case, a series of dictionaries\n",
    "jg=df12.apply(lookUpDifference2,args=(df22,),axis=1)"
   ]
  },
  {
   "cell_type": "code",
   "execution_count": null,
   "metadata": {},
   "outputs": [],
   "source": [
    "key_last3,value_last3=nested_dic(jg)\n",
    "df3=pd.DataFrame.from_records(value_last3,index=key_last3)"
   ]
  },
  {
   "cell_type": "code",
   "execution_count": null,
   "metadata": {},
   "outputs": [],
   "source": [
    "tutu3=df3.applymap(lambda x: x.values[0])\n",
    "tutu3.reset_index(inplace=True)"
   ]
  },
  {
   "cell_type": "code",
   "execution_count": null,
   "metadata": {},
   "outputs": [],
   "source": [
    "tutu3.replace([np.inf, -np.inf], np.nan,inplace=True)\n",
    "tutu3.dropna(inplace=True,how='any')"
   ]
  },
  {
   "cell_type": "code",
   "execution_count": null,
   "metadata": {},
   "outputs": [],
   "source": [
    "plt.close()\n",
    "sbs.violinplot(x='index',y='freq_prop',data=tutu3,bw=.1)\n",
    "plt.xticks(rotation=45)\n",
    "plt.grid(color='r', linestyle='-', linewidth=.5, axis='y')\n",
    "plt.ylim([-1,8])\n",
    "plt.show()"
   ]
  },
  {
   "cell_type": "markdown",
   "metadata": {},
   "source": [
    "The violin graph above reveals that distribution of proportional change of frequency of denials is not constant across combinations of denial types and service line. Hence, there is an interaction. A significant interaction will be expressed through non-uniform distributions."
   ]
  },
  {
   "cell_type": "markdown",
   "metadata": {},
   "source": [
    "Lastly, we'll look at insurance carriers and determine whether there exists a trend across dependent variables denials and service line, and finally, we'll combine insurance carrier with service line to determine whether there is an interaction that uniformally impaceted denials."
   ]
  },
  {
   "cell_type": "code",
   "execution_count": null,
   "metadata": {},
   "outputs": [],
   "source": [
    "gi1=first_half.groupby(['Denial Type','Insurance Name']).apply(lambda x: sum(x['Denied Amount']))\n",
    "gi2=second_half.groupby(['Denial Type','Insurance Name']).apply(lambda x: sum(x['Denied Amount']))\n",
    "#run the function on frequency\n",
    "gi_l=first_half.groupby(['Denial Type','Insurance Name']).apply(len)\n",
    "gi2_l=second_half.groupby(['Denial Type','Insurance Name']).apply(len)"
   ]
  },
  {
   "cell_type": "code",
   "execution_count": null,
   "metadata": {},
   "outputs": [],
   "source": [
    "testi=merge_calc(gi1,gi2)\n",
    "test_i=merge_calc(gi_l,gi2_l)"
   ]
  },
  {
   "cell_type": "code",
   "execution_count": null,
   "metadata": {},
   "outputs": [],
   "source": [
    "#now we convert to an appropriate dataframe and plot a heatmap\n",
    "testi.columns=['proportion','difference']\n",
    "testi.reset_index(inplace=True)\n",
    "testi1=testi.pivot('Insurance Name','Denial Type','proportion')\n",
    "\n",
    "test_i.columns=['proportion','difference']\n",
    "test_i.reset_index(inplace=True)\n",
    "test_i1=test_i.pivot('Insurance Name','Denial Type','proportion')"
   ]
  },
  {
   "cell_type": "code",
   "execution_count": null,
   "metadata": {},
   "outputs": [],
   "source": [
    "plt.close()\n",
    "ax=sbs.heatmap(test_i1,annot=True)\n",
    "ax.set_title('Ratios of frequency of denials from half to half')\n",
    "plt.show()\n",
    "plt.close()"
   ]
  },
  {
   "cell_type": "markdown",
   "metadata": {},
   "source": [
    "Let's look at the proportions by service line. Recall that RadOnc and Radilogy decreased the most h/h. What was the distribution of carrier for those two lines?"
   ]
  },
  {
   "cell_type": "code",
   "execution_count": null,
   "metadata": {},
   "outputs": [],
   "source": [
    "pd.crosstab(first_half['Service Line'],first_half['Insurance Name']).apply(lambda x: x/sum(x),axis=1)\n",
    "#this style takes proportions across rows... in this case - service line"
   ]
  },
  {
   "cell_type": "code",
   "execution_count": null,
   "metadata": {},
   "outputs": [],
   "source": [
    "pd.crosstab(second_half['Service Line'],second_half['Insurance Name']).apply(lambda x: x/sum(x),axis=1)"
   ]
  },
  {
   "cell_type": "markdown",
   "metadata": {},
   "source": [
    "The above shows that despite the improvement in RadOnc and MedOnc on the whole, proportions of denials shot up for Medicare, Medicaid and BCBS on those lines. There was a consistent deterioration in relative performance on those carriers across the board."
   ]
  },
  {
   "cell_type": "markdown",
   "metadata": {},
   "source": [
    "The crux of our discoveries showed three patterns:\n",
    "1. Steady improvement as measured by number of denials across Authorization, Coding, and ...\n",
    "2. A similar consistent improvement as measured by number of denials across service lines of MedOnc and Rad Onc\n",
    "3. A relative deterioration and increase of denial proportions across all service lines for BCBS, Medicare and Medicaid."
   ]
  }
 ],
 "metadata": {
  "kernelspec": {
   "display_name": "Python 3",
   "language": "python",
   "name": "python3"
  },
  "language_info": {
   "codemirror_mode": {
    "name": "ipython",
    "version": 3
   },
   "file_extension": ".py",
   "mimetype": "text/x-python",
   "name": "python",
   "nbconvert_exporter": "python",
   "pygments_lexer": "ipython3",
   "version": "3.6.2"
  }
 },
 "nbformat": 4,
 "nbformat_minor": 2
}
