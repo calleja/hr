{
 "cells": [
  {
   "cell_type": "markdown",
   "metadata": {},
   "source": [
    "\n",
    "In this study we uncover the effects and interactions of procedural changes made by the company to decrease the level of denied claims. The measurement periods in question are the first and second half of calendar year 2016. We are tasked with uncovering the nature of the implementation: whether it targeted denial types, insurance carriers, service lines or claims by dollar amount - and possibly a combination of these."
   ]
  },
  {
   "cell_type": "code",
   "execution_count": 1,
   "metadata": {
    "collapsed": true
   },
   "outputs": [],
   "source": [
    "import pandas as pd\n",
    "import numpy as np\n",
    "import matplotlib.pyplot as plt\n",
    "import itertools\n",
    "import warnings\n",
    "import seaborn as sbs"
   ]
  },
  {
   "cell_type": "markdown",
   "metadata": {},
   "source": [
    "A preview of the raw dataset. Here, you see that \n",
    " - 'month of service' is nearly qualitative \n",
    " - 'Denied Amount' is continuous for all intents and purposes\n",
    " - 'Insurance Name' is categorical\n",
    " - 'Service Line' is Categorical\n",
    " - 'Denial Type' is Categorical"
   ]
  },
  {
   "cell_type": "code",
   "execution_count": 2,
   "metadata": {},
   "outputs": [
    {
     "data": {
      "text/html": [
       "<div>\n",
       "<style>\n",
       "    .dataframe thead tr:only-child th {\n",
       "        text-align: right;\n",
       "    }\n",
       "\n",
       "    .dataframe thead th {\n",
       "        text-align: left;\n",
       "    }\n",
       "\n",
       "    .dataframe tbody tr th {\n",
       "        vertical-align: top;\n",
       "    }\n",
       "</style>\n",
       "<table border=\"1\" class=\"dataframe\">\n",
       "  <thead>\n",
       "    <tr style=\"text-align: right;\">\n",
       "      <th></th>\n",
       "      <th>Month of Service</th>\n",
       "      <th>Denied Amount</th>\n",
       "      <th>Insurance Name</th>\n",
       "      <th>Service Line</th>\n",
       "      <th>Denial Type</th>\n",
       "    </tr>\n",
       "  </thead>\n",
       "  <tbody>\n",
       "    <tr>\n",
       "      <th>0</th>\n",
       "      <td>7</td>\n",
       "      <td>31000</td>\n",
       "      <td>Aetna</td>\n",
       "      <td>MedOnc</td>\n",
       "      <td>Authorization</td>\n",
       "    </tr>\n",
       "    <tr>\n",
       "      <th>1</th>\n",
       "      <td>9</td>\n",
       "      <td>11000</td>\n",
       "      <td>Medicaid</td>\n",
       "      <td>Radiology</td>\n",
       "      <td>Credentialing</td>\n",
       "    </tr>\n",
       "    <tr>\n",
       "      <th>2</th>\n",
       "      <td>6</td>\n",
       "      <td>5000</td>\n",
       "      <td>UHC</td>\n",
       "      <td>MedOnc</td>\n",
       "      <td>Timely Filing</td>\n",
       "    </tr>\n",
       "    <tr>\n",
       "      <th>3</th>\n",
       "      <td>8</td>\n",
       "      <td>13000</td>\n",
       "      <td>Medicaid</td>\n",
       "      <td>E&amp;M</td>\n",
       "      <td>Additional Information</td>\n",
       "    </tr>\n",
       "    <tr>\n",
       "      <th>4</th>\n",
       "      <td>5</td>\n",
       "      <td>39000</td>\n",
       "      <td>HIP</td>\n",
       "      <td>Labs</td>\n",
       "      <td>Coding</td>\n",
       "    </tr>\n",
       "  </tbody>\n",
       "</table>\n",
       "</div>"
      ],
      "text/plain": [
       "   Month of Service  Denied Amount Insurance Name Service Line  \\\n",
       "0                 7          31000          Aetna       MedOnc   \n",
       "1                 9          11000       Medicaid    Radiology   \n",
       "2                 6           5000            UHC       MedOnc   \n",
       "3                 8          13000       Medicaid          E&M   \n",
       "4                 5          39000            HIP         Labs   \n",
       "\n",
       "              Denial Type  \n",
       "0           Authorization  \n",
       "1           Credentialing  \n",
       "2           Timely Filing  \n",
       "3  Additional Information  \n",
       "4                  Coding  "
      ]
     },
     "execution_count": 2,
     "metadata": {},
     "output_type": "execute_result"
    }
   ],
   "source": [
    "df=pd.read_excel('/home/lechuza/Documents/hr/Flatiron_Analyst_Case_Study_(2).xlsx')\n",
    "df.head()"
   ]
  },
  {
   "cell_type": "markdown",
   "metadata": {},
   "source": [
    "Note: the data shows one half of the story. Not provided is information on these factors across sucessful and denied claims. In effect, I am provided a biased subset of the data. One reprecussion is lack of insight into relative proportion of claims to denials filed to a particular carrier or for a particular service line. Thus we can only make recommendations from one side of the dataset."
   ]
  },
  {
   "cell_type": "code",
   "execution_count": 54,
   "metadata": {},
   "outputs": [
    {
     "data": {
      "image/png": "[encoded data removed]",
      "text/plain": [
       "<matplotlib.figure.Figure at 0x7fb1e4676eb8>"
      ]
     },
     "metadata": {},
     "output_type": "display_data"
    }
   ],
   "source": [
    "#bins=min(df['Denied Amount'])\n",
    "plt.close()\n",
    "ax1=plt.subplot(121)\n",
    "plt.hist(df['Denied Amount'],bins=8,density=False,color='green',edgecolor='black')\n",
    "plt.title('Distribution of claim \\n denial amounts 8 bins')\n",
    "plt.xlabel('Dollar amount of claims')\n",
    "plt.ylabel('Frequency of Claims in bin')\n",
    "\n",
    "plt.subplot(122)\n",
    "plt.hist(df['Denied Amount'],bins=20,density=False,color='green',edgecolor='black')\n",
    "plt.title('Distribution of claim \\n denial amounts 20 bins')\n",
    "plt.xlabel('Dollar amount of claims')\n",
    "plt.ylabel('Frequency of Claims in bin')\n",
    "plt.subplots_adjust(wspace=.5)\n",
    "\n",
    "plt.show()\n",
    "plt.close()"
   ]
  },
  {
   "cell_type": "markdown",
   "metadata": {},
   "source": [
    "The above graphs displays the semi-uniform distribution of claim sizes across periods. Below we plot hisotgrams for each period separately."
   ]
  },
  {
   "cell_type": "code",
   "execution_count": 5,
   "metadata": {
    "collapsed": true
   },
   "outputs": [],
   "source": [
    "#splitting dataset into first and second half of year\n",
    "first_half=df.loc[df['Month of Service'] <7,:]\n",
    "second_half=df.loc[df['Month of Service'] >6,:]"
   ]
  },
  {
   "cell_type": "code",
   "execution_count": 42,
   "metadata": {},
   "outputs": [
    {
     "data": {
      "image/png": "[encoded data removed]",
      "text/plain": [
       "<matplotlib.figure.Figure at 0x7fb1e45bc940>"
      ]
     },
     "metadata": {},
     "output_type": "display_data"
    }
   ],
   "source": [
    "#first half binned histogram of claim sizes\n",
    "\n",
    "plt.close()\n",
    "\n",
    "ax2=plt.subplot(122)\n",
    "plt.hist(second_half['Denied Amount'],bins=8,density=False,color='green',edgecolor='black')\n",
    "plt.title('Distribution of claim denial \\n amounts for the second half')\n",
    "plt.xlabel('Dollar amount of claims')\n",
    "plt.ylabel('Frequency of Claims in bin')\n",
    "\n",
    "plt.subplot(121,sharey=ax2)\n",
    "plt.hist(first_half['Denied Amount'],bins=8,density=False,color='green',edgecolor='black')\n",
    "plt.title('Distribution of claim denial \\n amounts for the first half')\n",
    "plt.xlabel('Dollar amount of claims')\n",
    "plt.ylabel('Frequency of Claims in bin')\n",
    "plt.subplots_adjust(wspace=.5)\n",
    "plt.show()"
   ]
  },
  {
   "cell_type": "markdown",
   "metadata": {},
   "source": [
    "There was a significant decrease in claims over $35K... we'll check on that later."
   ]
  },
  {
   "cell_type": "code",
   "execution_count": 56,
   "metadata": {},
   "outputs": [],
   "source": [
    "#create dataframe of frequencies of the variables I want to plot\n",
    "#will need to sort the series by index - alphabetical order\n",
    "dt_1=first_half['Denial Type'].value_counts()\n",
    "dt_2=second_half['Denial Type'].value_counts()\n",
    "\n",
    "dt_d1=first_half.groupby('Denial Type').apply(lambda x: sum(x['Denied Amount']))\n",
    "dt_d2=second_half.groupby('Denial Type').apply(lambda x: sum(x['Denied Amount']))\n",
    "#sort both series and store as such"
   ]
  },
  {
   "cell_type": "code",
   "execution_count": 57,
   "metadata": {},
   "outputs": [
    {
     "data": {
      "text/plain": [
       "Denial Type\n",
       "Additional Information    4011000\n",
       "Authorization             7054000\n",
       "Coding                    7274000\n",
       "Credentialing             7380000\n",
       "Eligibility               3956000\n",
       "dtype: int64"
      ]
     },
     "execution_count": 57,
     "metadata": {},
     "output_type": "execute_result"
    }
   ],
   "source": [
    "dt_d1.head()"
   ]
  },
  {
   "cell_type": "code",
   "execution_count": 7,
   "metadata": {
    "collapsed": true
   },
   "outputs": [],
   "source": [
    "#sort these series\n",
    "dt_1.sort_index(inplace=True)\n",
    "dt_2.sort_index(inplace=True)"
   ]
  },
  {
   "cell_type": "markdown",
   "metadata": {},
   "source": [
    "Plot denial types for first and second half of year"
   ]
  },
  {
   "cell_type": "code",
   "execution_count": 70,
   "metadata": {},
   "outputs": [
    {
     "data": {
      "image/png": "[encoded data removed]",
      "text/plain": [
       "<matplotlib.figure.Figure at 0x7fb1e41285c0>"
      ]
     },
     "metadata": {},
     "output_type": "display_data"
    }
   ],
   "source": [
    "plt.close()\n",
    "ax1=plt.subplot(221)\n",
    "plt.bar(np.arange(1,len(dt_1)+1),dt_1.values)\n",
    "ax1.set_title('Frequency of denied claims \\nby denial type First Half of year')\n",
    "plt.xticks(np.arange(1,len(dt_1)+1),np.array(dt_1.index),rotation=90.0)\n",
    "#plt.figure(num=1,figsize=(5,1))\n",
    "\n",
    "ax2=plt.subplot(222,sharey=ax1,sharex=ax1)\n",
    "plt.bar(np.arange(1,len(dt_2)+1),dt_2.values,align='center')\n",
    "ax2.set_title('Second Half of year')\n",
    "plt.xticks(np.arange(1,len(dt_2)+1),np.array(dt_2.index),rotation=90.0)\n",
    "#plt.figure(num=2,figsize=(5,1))\n",
    "\n",
    "ax3=plt.subplot(223)\n",
    "plt.bar(np.arange(1,len(dt_d1)+1),dt_d1.values,align='center')\n",
    "ax2.set_title('Second Half of year')\n",
    "plt.xticks(np.arange(1,len(dt_d1)+1),np.array(dt_d1.index),rotation=90.0)\n",
    "#plt.figure(num=3,figsize=(5,5))\n",
    "\n",
    "ax4=plt.subplot(224,sharey=ax3,sharex=ax3)\n",
    "plt.bar(np.arange(1,len(dt_d2)+1),dt_d2.values,align='center')\n",
    "ax2.set_title('Second Half of year')\n",
    "plt.xticks(np.arange(1,len(dt_d2)+1),np.array(dt_d2.index),rotation=90.0)\n",
    "#plt.figure(num=4,figsize=(5,1))\n",
    "\n",
    "#plt.tight_layout() <- can't use, because it reduces the image sizes to the point where diminishing legibility\n",
    "plt.subplots_adjust(wspace=.5)\n",
    "plt.show()"
   ]
  },
  {
   "cell_type": "markdown",
   "metadata": {},
   "source": [
    "We note that denials increased for all types save for \"Authorization\", \"Coding\" and \"Credentialing\". Later, we do a deeper dive to check the distribution across component service lines for each of these claims using a rate of change metric."
   ]
  },
  {
   "cell_type": "markdown",
   "metadata": {},
   "source": [
    "Nominal dollar amount of denials by carrier."
   ]
  },
  {
   "cell_type": "code",
   "execution_count": 9,
   "metadata": {
    "collapsed": true
   },
   "outputs": [],
   "source": [
    "insurance_sums_first=first_half.groupby('Insurance Name').apply(lambda x: sum(x['Denied Amount']))\n",
    "insurance_sums_second=second_half.groupby('Insurance Name').apply(lambda x: sum(x['Denied Amount']))"
   ]
  },
  {
   "cell_type": "code",
   "execution_count": 48,
   "metadata": {},
   "outputs": [
    {
     "data": {
      "image/png": "[encoded data removed]",
      "text/plain": [
       "<matplotlib.figure.Figure at 0x7fb1e4a3fd30>"
      ]
     },
     "metadata": {},
     "output_type": "display_data"
    }
   ],
   "source": [
    "#it would be nice to show gridlines\n",
    "plt.close()\n",
    "ax1=plt.subplot(121)\n",
    "plt.bar(np.arange(1,len(insurance_sums_first)+1),insurance_sums_first.values)\n",
    "plt.xticks(np.arange(1,len(insurance_sums_first)+1),np.array(insurance_sums_first.index),rotation=70.0)\n",
    "plt.ylabel('Dollar Sum of Denials')\n",
    "plt.title('Cumulate Sum of Denials per \\n Insurance Provider - First Half')\n",
    "\n",
    "\n",
    "ax2=plt.subplot(122, sharey=ax1)\n",
    "plt.bar(np.arange(1,len(insurance_sums_second)+1),insurance_sums_second.values)\n",
    "plt.xticks(np.arange(1,len(insurance_sums_second)+1),np.array(insurance_sums_second.index),rotation=90.0)\n",
    "plt.title('Cumulate Sum of Denials per \\n Insurance Provider - Second Half')\n",
    "plt.subplots_adjust(wspace=.6)\n",
    "#plt.tight_layout()\n",
    "plt.show()"
   ]
  },
  {
   "cell_type": "markdown",
   "metadata": {},
   "source": [
    "We already start to see some notable differences between the two periods in the array of visuals above:\n",
    "1. Cumulative denials fell dramatically for all insurance carriers, save for BCBS, Medicaid and Medicare\n",
    "2. Fewer denials of less than $35K\n",
    "\n",
    "We can drill down to see whether there is a level among the Service Line and Denial Type factors that is prevalent in the subset of carriers. Perhaps a 'denial type' or 'service line' is more significantly prevalent in one of the groups over the others. If not, we can try the study from a different perspective: Beginning the analysis from the denial types, then proceeding through servie line, and if need be, insurance carriers.  "
   ]
  },
  {
   "cell_type": "code",
   "execution_count": 11,
   "metadata": {
    "collapsed": true
   },
   "outputs": [],
   "source": [
    "service_sums_first=first_half.groupby('Service Line').apply(lambda x: sum(x['Denied Amount']))\n",
    "service_sums_second=second_half.groupby('Service Line').apply(lambda x: sum(x['Denied Amount']))"
   ]
  },
  {
   "cell_type": "markdown",
   "metadata": {},
   "source": [
    "We concentrate on Denial Types for now. We want to gauge the change in dollar denial amounts when plotting denial types along with service line. Below we plot a heat map with the quantity being the ratio of total dollars denied by combination of service line and denial type. Positive ratios mean that the total denied dollars increased in the second half and decimals signal a decline."
   ]
  },
  {
   "cell_type": "code",
   "execution_count": 12,
   "metadata": {
    "collapsed": true
   },
   "outputs": [],
   "source": [
    "g1=first_half.groupby(['Denial Type','Service Line']).apply(lambda x: sum(x['Denied Amount']))\n",
    "g2=second_half.groupby(['Denial Type','Service Line']).apply(lambda x: sum(x['Denied Amount']))"
   ]
  },
  {
   "cell_type": "code",
   "execution_count": 13,
   "metadata": {
    "collapsed": true
   },
   "outputs": [],
   "source": [
    "h=pd.concat([g1,g2],axis=1)"
   ]
  },
  {
   "cell_type": "code",
   "execution_count": 14,
   "metadata": {
    "collapsed": true
   },
   "outputs": [],
   "source": [
    "#unpack the multi index, merge, then apply a function to calculate the h/h difference change and rate of change\n",
    "def innerFunction(rowwise):\n",
    "    x=rowwise.tolist()\n",
    "    #dic={'prop':x[1]/x[0],'diff':x[1]-x[0]}\n",
    "    #dic=x[1]/x[0]\n",
    "    dic=(x[1]/x[0],x[1]-x[0])\n",
    "    return(dic)\n",
    "#merge on multi index\n",
    "def merge_calc(df1,df2):\n",
    "    #df is a dataframe\n",
    "    df=pd.concat([df1,df2],axis=1)\n",
    "    final=df.apply(innerFunction,axis=1)\n",
    "    return(final)\n",
    "\n",
    "test=merge_calc(g1,g2)"
   ]
  },
  {
   "cell_type": "code",
   "execution_count": 15,
   "metadata": {},
   "outputs": [],
   "source": [
    "#now we convert to an appropriate dataframe and plot a heatmap\n",
    "test.columns=['proportion','difference']\n",
    "test.reset_index(inplace=True)\n",
    "test1=test.pivot('Service Line','Denial Type','proportion')"
   ]
  },
  {
   "cell_type": "code",
   "execution_count": 16,
   "metadata": {},
   "outputs": [
    {
     "data": {
      "image/png": "[encoded data removed]",
      "text/plain": [
       "<matplotlib.figure.Figure at 0x7fb1e4a4bd68>"
      ]
     },
     "metadata": {},
     "output_type": "display_data"
    }
   ],
   "source": [
    "plt.close()\n",
    "ax=sbs.heatmap(test1,annot=True)\n",
    "ax.set_title('Ratio of Cumulative Sums from half to half')\n",
    "#flights = sbs.load_dataset(\"flights\")\n",
    "#flights = flights.pivot(\"month\", \"year\", \"passengers\")\n",
    "\n",
    "#print(flights.head())\n",
    "plt.show()\n",
    "plt.close()"
   ]
  },
  {
   "cell_type": "markdown",
   "metadata": {},
   "source": [
    "From the heatmap, we see that possible implementations of new \"Coding\", \"Authorization\" and \"Credentialing\" practices was especially effective at reducing claims across service lines when measured on ratio of cumulative dollar sum. This impact is notably effective in the service lines of 'RadOnc' and 'Radiology'.\n",
    "\n",
    "Areas of concern: The procedural enhancements were least effective at reducing claims for \"E&M\", \"Labs\" and \"MedOnc\"; moreover, these three service lines experienced the highest growth in claims"
   ]
  },
  {
   "cell_type": "markdown",
   "metadata": {},
   "source": [
    "Plot another HeatMap but with total absolute dollars difference half-over-half."
   ]
  },
  {
   "cell_type": "code",
   "execution_count": 17,
   "metadata": {},
   "outputs": [
    {
     "data": {
      "image/png": "[encoded data removed]",
      "text/plain": [
       "<matplotlib.figure.Figure at 0x7fb1e48f18d0>"
      ]
     },
     "metadata": {},
     "output_type": "display_data"
    }
   ],
   "source": [
    "test2=test.pivot('Service Line','Denial Type','difference')\n",
    "plt.close()\n",
    "ax=sbs.heatmap(test2,annot=False)\n",
    "ax.set_title('Nominal Difference in Cumulative Sums from half to half')\n",
    "plt.show()\n",
    "plt.close()"
   ]
  },
  {
   "cell_type": "markdown",
   "metadata": {},
   "source": [
    "From the above, we can nearly rest assured that rates of change associate closely with changes as measured by nominal differences in cumulative denial dollars."
   ]
  },
  {
   "cell_type": "markdown",
   "metadata": {},
   "source": [
    "Below we re-do the study but starting with service lines."
   ]
  },
  {
   "cell_type": "code",
   "execution_count": 72,
   "metadata": {},
   "outputs": [
    {
     "data": {
      "image/png": "[encoded data removed]",
      "text/plain": [
       "<matplotlib.figure.Figure at 0x7fb1e473e748>"
      ]
     },
     "metadata": {},
     "output_type": "display_data"
    }
   ],
   "source": [
    "plt.close()\n",
    "\n",
    "ax1=plt.subplot(121)\n",
    "plt.bar(np.arange(1,len(service_sums_first)+1),service_sums_first.values)\n",
    "plt.xticks(np.arange(1,len(service_sums_first)+1),np.array(service_sums_first.index),rotation=45.0)\n",
    "plt.title('Cumulate Sum of Denials per \\n Service Line - First Half')\n",
    "plt.yticks(np.arange(0,max(service_sums_first.values)+8000,450000))\n",
    "ax1.grid(color='r', linestyle='-', linewidth=.5, axis='y')\n",
    "\n",
    "\n",
    "ax2=plt.subplot(122,sharey=ax1)\n",
    "plt.bar(np.arange(1,len(service_sums_second)+1),service_sums_second.values)\n",
    "plt.xticks(np.arange(1,len(service_sums_second)+1),np.array(service_sums_second.index),rotation=45.0)\n",
    "plt.title('Cumulate Sum of Denials per \\n Service Line - Second Half')\n",
    "plt.yticks(np.arange(0,max(service_sums_second.values)+8000,450000))\n",
    "ax2.grid(color='r', linestyle='-', linewidth=.5, axis='y')\n",
    "plt.subplots_adjust(wspace=.5)\n",
    "\n",
    "plt.show()"
   ]
  },
  {
   "cell_type": "markdown",
   "metadata": {},
   "source": [
    "The h/h rate of change for each service line indicate that the last two had the most dramatic decline and absolute change, while 'MedOnc' had the largest increase. This confirms the drop we saw in these lines when taking the perspective of a 'denial type' implementation. It is possible that the firm focused on Service Lines and not denial types. We have to uncover the reason why denials decreased more for some service lines than others for \"Coding\", \"Credentialing\" and \"Authorization\"."
   ]
  },
  {
   "cell_type": "code",
   "execution_count": 19,
   "metadata": {},
   "outputs": [
    {
     "data": {
      "text/plain": [
       "array([ 1.01731761,  1.17605054,  1.10252776,  0.63521536,  0.41663919])"
      ]
     },
     "execution_count": 19,
     "metadata": {},
     "output_type": "execute_result"
    }
   ],
   "source": [
    "np.array(service_sums_second)/np.array(service_sums_first)"
   ]
  },
  {
   "cell_type": "markdown",
   "metadata": {},
   "source": [
    "Wow! From the above, we determine that Radial Oncology and Radioliogy Denied Claims in dollars plummeted. But are the underlying components comparable - lending itself to an apples-to-apples comparison?\n",
    " - We'll be assuming that each measurement period had the same level of activity (number of claims)... we'll check the frequency of denials across periods for each of the service lines\n",
    " - We assume that the distribution of denials by carrier remains the same in both periods"
   ]
  },
  {
   "cell_type": "markdown",
   "metadata": {},
   "source": [
    "Let's look at the distribution of the denial types across each service line. Then, we can plot a heatmap or plot the proportional decrease from each of the denial types. Then, we move on to answer why this was not successful in other Service Lines."
   ]
  },
  {
   "cell_type": "code",
   "execution_count": 20,
   "metadata": {
    "collapsed": true
   },
   "outputs": [],
   "source": [
    "#for i in ['MedOnc','RadOnc','Radiology']\n",
    "#create a function that accepts one service line category, and calculates the rank for each insurance provider,\n",
    "#and their proportional change in absolute denial dollars h/h for that service line; measure the proportion each carrier to the entire service line, and flag those with greatest change\n",
    "def distributionCarrier(sl,df1,df2):\n",
    "    #df1.loc[df1['Service Line'],:]\n",
    "    #multiple group by\n",
    "    df1.groupby(['Service Line','Denial Type']).sum()"
   ]
  },
  {
   "cell_type": "code",
   "execution_count": 21,
   "metadata": {
    "collapsed": true
   },
   "outputs": [],
   "source": [
    "#first_half.groupby(['Service Line','Denial Type']).sum()\n",
    "#second_half.groupby(['Service Line','Denial Type']).sum()"
   ]
  },
  {
   "cell_type": "markdown",
   "metadata": {},
   "source": [
    "Compute difference, ratio of change in frequency of claims, then the average size of claims, total dollar amount of claims."
   ]
  },
  {
   "cell_type": "markdown",
   "metadata": {
    "collapsed": true
   },
   "source": [
    "'Insurance Name' is categorical\n",
    "'Service Line' is Categorical\n",
    "'Denial Type'"
   ]
  },
  {
   "cell_type": "markdown",
   "metadata": {},
   "source": [
    "Create a function that automatically builds all the elements of a combination across all three categorical variable and stores them in a list... UPDATE: don't need to create this, itertools can handle."
   ]
  },
  {
   "cell_type": "code",
   "execution_count": 22,
   "metadata": {},
   "outputs": [
    {
     "ename": "SyntaxError",
     "evalue": "invalid syntax (<ipython-input-22-2650e4b7191f>, line 1)",
     "output_type": "error",
     "traceback": [
      "\u001b[0;36m  File \u001b[0;32m\"<ipython-input-22-2650e4b7191f>\"\u001b[0;36m, line \u001b[0;32m1\u001b[0m\n\u001b[0;31m    def combo(x,y,z)\u001b[0m\n\u001b[0m                    ^\u001b[0m\n\u001b[0;31mSyntaxError\u001b[0m\u001b[0;31m:\u001b[0m invalid syntax\n"
     ]
    }
   ],
   "source": [
    "def combo(x,y,z)"
   ]
  },
  {
   "cell_type": "code",
   "execution_count": null,
   "metadata": {
    "collapsed": true
   },
   "outputs": [],
   "source": [
    "ins=df['Insurance Name'].unique()\n",
    "service=df['Service Line'].unique()\n",
    "denial=df['Denial Type'].unique()\n",
    "lista=[ins,service,denial]\n",
    "g=itertools.product(*lista)\n",
    "combo_list=list(g)"
   ]
  },
  {
   "cell_type": "code",
   "execution_count": null,
   "metadata": {
    "collapsed": true
   },
   "outputs": [],
   "source": [
    "type(combo_list)"
   ]
  },
  {
   "cell_type": "code",
   "execution_count": null,
   "metadata": {
    "collapsed": true
   },
   "outputs": [],
   "source": [
    "#combo_list[7][1] #a list\n",
    "g=np.array(first_half.loc[(first_half['Insurance Name'] == combo_list[7][0]) &\n",
    "                        (first_half['Service Line'] == combo_list[7][1]) & \n",
    "        (first_half['Denial Type'] == combo_list[7][2]),'Denied Amount'])\n",
    "\n",
    "np.mean(g)\n",
    "g.size\n",
    "np.sum(g)"
   ]
  },
  {
   "cell_type": "markdown",
   "metadata": {},
   "source": [
    "Index the dataframe by the elements in each of the elements of this combination container, and use to calculate and arrive at the depenedent variable (frequency of claims, average claim, total amount of claims)."
   ]
  },
  {
   "cell_type": "code",
   "execution_count": null,
   "metadata": {
    "collapsed": true
   },
   "outputs": [],
   "source": [
    "#this function will be applied to a dataframe... the apply function, however, will not work\n",
    "def getMeasure(df,index_array):\n",
    "    #hard coding the index-column association\n",
    "    #insert/place result set in either a dictionary, pandas dataframe\n",
    "    result_set_dict={}\n",
    "    result_set_dict.setdefault(index_array,{})\n",
    "    #results_array is a pandas series\n",
    "    results_array=np.array(df.loc[(df['Insurance Name'] == index_array[0]) & (df['Service Line'] == index_array[1]) & \n",
    "        (df['Denial Type'] == index_array[2]),'Denied Amount'])\n",
    "    try:\n",
    "        result_set_dict[index_array]['mean']=np.mean(results_array)\n",
    "    except RunTimeWarning:\n",
    "        result_set_dict[index_array]['mean']=None\n",
    "    result_set_dict[index_array]['freq']=results_array.size\n",
    "    result_set_dict[index_array]['cum_sum']=np.sum(results_array)\n",
    "    return(result_set_dict)"
   ]
  },
  {
   "cell_type": "code",
   "execution_count": null,
   "metadata": {
    "collapsed": true
   },
   "outputs": [],
   "source": [
    "result_set1=[getMeasure(first_half,i) for i in combo_list]\n",
    "result_set2=[getMeasure(second_half,i) for i in combo_list]"
   ]
  },
  {
   "cell_type": "code",
   "execution_count": null,
   "metadata": {
    "collapsed": true
   },
   "outputs": [],
   "source": [
    "def nested_dic(dic_list):\n",
    "    #convert a nested dictionary into a dataframe\n",
    "    tuple_list=[]\n",
    "    values_list=[]\n",
    "    for i in dic_list:\n",
    "        for k,v in i.items():\n",
    "            tuple_list.append(k)\n",
    "            values_list.append(v)\n",
    "    return((tuple_list,values_list))\n",
    "\n",
    "key_list,value_list=nested_dic(result_set1)\n",
    "#from second_half dataframe\n",
    "key_list2,value_list2=nested_dic(result_set2)"
   ]
  },
  {
   "cell_type": "code",
   "execution_count": null,
   "metadata": {
    "collapsed": true
   },
   "outputs": [],
   "source": [
    "#first_half dataframe\n",
    "df1=pd.DataFrame.from_records(value_list,index=key_list)\n",
    "#second_half dataframe\n",
    "df2=pd.DataFrame.from_records(value_list2,index=key_list2)"
   ]
  },
  {
   "cell_type": "markdown",
   "metadata": {},
   "source": [
    "Now we have two dataframes, each dataframe contains the mean, cumulative sum and frequency of each combination of Service Line, Insurance Name, Denial Type. We can now calculate the difference between these values, as well as the rate of change across the two time periods."
   ]
  },
  {
   "cell_type": "code",
   "execution_count": null,
   "metadata": {
    "collapsed": true
   },
   "outputs": [],
   "source": [
    "#this function is designed to be 'applied' to one of the dataframes... apply this to the first_half df\n",
    "def lookUpDifference(x,df):\n",
    "    dicty={}\n",
    "#    dicty.setdefault(x.name,{})\n",
    "    matched_row=df.loc[[x.name]].to_dict(orient='list')\n",
    "    dicty[x.name]={'mean_diff':matched_row['mean']-x['mean'],\n",
    "    'cum_sum_diff':matched_row['cum_sum']-x['cum_sum'],\n",
    "    'freq_dif':matched_row['freq']-x['freq'],\n",
    "    'mean_prop':matched_row['mean']/x['mean'],\n",
    "    'cum_sum_prop':matched_row['cum_sum']/x['cum_sum'],\n",
    "    'freq_prop':matched_row['freq']/x['freq']}\n",
    "    return(dicty)\n",
    "\n",
    "#"
   ]
  },
  {
   "cell_type": "code",
   "execution_count": null,
   "metadata": {
    "collapsed": true
   },
   "outputs": [],
   "source": [
    "g=df2.index[9]\n",
    "h=df2.loc[[g]]\n",
    "#print(df2.head())\n",
    "#print(h)\n",
    "dic=h.to_dict(orient='list')\n",
    "print(dic)\n",
    "#dic['mean']"
   ]
  },
  {
   "cell_type": "code",
   "execution_count": null,
   "metadata": {
    "collapsed": true
   },
   "outputs": [],
   "source": [
    "type(h)\n",
    "h.shape\n",
    "jh=h.iloc[0,:]\n",
    "type(jh)"
   ]
  },
  {
   "cell_type": "code",
   "execution_count": null,
   "metadata": {
    "collapsed": true
   },
   "outputs": [],
   "source": [
    "#df1.loc[,:]\n",
    "print(df1.index[9])\n",
    "g=df1.index[9]\n",
    "type(g)\n",
    "df1.loc[[g]]"
   ]
  },
  {
   "cell_type": "code",
   "execution_count": null,
   "metadata": {
    "collapsed": true
   },
   "outputs": [],
   "source": [
    "g=df2.iloc[3,:]\n",
    "df1.loc[[g.name]]['mean']-g['mean']"
   ]
  },
  {
   "cell_type": "code",
   "execution_count": null,
   "metadata": {
    "collapsed": true
   },
   "outputs": [],
   "source": [
    "gh=lookUpDifference(df2.iloc[3,:],df1)\n",
    "type(gh)"
   ]
  },
  {
   "cell_type": "code",
   "execution_count": null,
   "metadata": {
    "collapsed": true
   },
   "outputs": [],
   "source": [
    "#apply to a DataFrame... in this case, returning a Series\n",
    "g=df1.apply(lookUpDifference,args=(df2,),axis=1)"
   ]
  },
  {
   "cell_type": "code",
   "execution_count": null,
   "metadata": {
    "collapsed": true
   },
   "outputs": [],
   "source": [
    "vals=g.values\n",
    "print(type(vals))\n",
    "#new_df=pd.DataFrame(vals)\n",
    "print(vals.shape)\n",
    "vals[8:14]"
   ]
  },
  {
   "cell_type": "code",
   "execution_count": null,
   "metadata": {
    "collapsed": true
   },
   "outputs": [],
   "source": [
    "def nested_dic2(dic_list):\n",
    "    #convert a nested dictionary into a dataframe\n",
    "    tuple_list=[]\n",
    "    final_vals=[]\n",
    "    for i in dic_list:\n",
    "        for k,v in i.items():\n",
    "            tuple_list.append(k)\n",
    "            #place the dictionary elements into a sublist... but need to sort the dictionary first\n",
    "            values_list=[]\n",
    "            for j,l in v.items():\n",
    "                values_list.append(l[0])\n",
    "        final_vals.append(values_list)\n",
    "    return((tuple_list,final_vals))"
   ]
  },
  {
   "cell_type": "code",
   "execution_count": null,
   "metadata": {
    "collapsed": true
   },
   "outputs": [],
   "source": [
    "finished_tup,finished_vals=nested_dic2(vals)"
   ]
  },
  {
   "cell_type": "code",
   "execution_count": null,
   "metadata": {
    "collapsed": true
   },
   "outputs": [],
   "source": [
    "len(finished_tup)\n",
    "#finished_tup[0:4]\n",
    "len(finished_vals)\n",
    "finished_vals[2:7]"
   ]
  },
  {
   "cell_type": "code",
   "execution_count": null,
   "metadata": {
    "collapsed": true
   },
   "outputs": [],
   "source": [
    "df13=pd.DataFrame.from_records(finished_vals,index=finished_tup,columns=['mean_diff','cum_sum_diff',\n",
    "    'freq_diff','mean_prop','cum_sum_prop','freq_prop'])"
   ]
  },
  {
   "cell_type": "code",
   "execution_count": null,
   "metadata": {
    "collapsed": true
   },
   "outputs": [],
   "source": [
    "df13.iloc[0:5,:]\n",
    "df13.to_csv('/home/lechuza/Documents/hr/flatiron_df_longitudinal.csv')"
   ]
  },
  {
   "cell_type": "markdown",
   "metadata": {},
   "source": [
    "Run ranges on each field of the rate of change dataframe."
   ]
  },
  {
   "cell_type": "code",
   "execution_count": null,
   "metadata": {
    "collapsed": true
   },
   "outputs": [],
   "source": [
    "df13.tail()"
   ]
  },
  {
   "cell_type": "code",
   "execution_count": null,
   "metadata": {
    "collapsed": true
   },
   "outputs": [],
   "source": [
    "df13.loc[[('Oscar', 'RadOnc', 'Referral')]]\n",
    "print(df1.loc[[('Oscar', 'RadOnc', 'Referral')]])\n",
    "print(df2.loc[[('Oscar', 'RadOnc', 'Referral')]])"
   ]
  },
  {
   "cell_type": "code",
   "execution_count": null,
   "metadata": {
    "collapsed": true
   },
   "outputs": [],
   "source": [
    "df13.describe()"
   ]
  },
  {
   "cell_type": "code",
   "execution_count": null,
   "metadata": {
    "collapsed": true
   },
   "outputs": [],
   "source": [
    "for i in df13.shape[1]:\n",
    "    df13.iloc[:,i]"
   ]
  },
  {
   "cell_type": "markdown",
   "metadata": {},
   "source": [
    "Be sure to account for the volume of transactions... Look into the amount of claims across the category combinations and verify whether denials are increasing on an absolute or relative basis."
   ]
  }
 ],
 "metadata": {
  "kernelspec": {
   "display_name": "Python 3",
   "language": "python",
   "name": "python3"
  },
  "language_info": {
   "codemirror_mode": {
    "name": "ipython",
    "version": 3
   },
   "file_extension": ".py",
   "mimetype": "text/x-python",
   "name": "python",
   "nbconvert_exporter": "python",
   "pygments_lexer": "ipython3",
   "version": "3.6.3"
  }
 },
 "nbformat": 4,
 "nbformat_minor": 2
}
